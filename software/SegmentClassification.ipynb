{
  "nbformat": 4,
  "nbformat_minor": 0,
  "metadata": {
    "colab": {
      "name": "SegmentClassification.ipynb",
      "provenance": [],
      "collapsed_sections": []
    },
    "kernelspec": {
      "name": "python3",
      "display_name": "Python 3"
    },
    "language_info": {
      "name": "python"
    }
  },
  "cells": [
    {
      "cell_type": "code",
      "metadata": {
        "id": "27eCQeAwqGo4",
        "colab": {
          "base_uri": "https://localhost:8080/"
        },
        "outputId": "587e34c1-9439-4085-a985-5ec5de839790"
      },
      "source": [
        "%load_ext autoreload\n",
        "%autoreload 2"
      ],
      "execution_count": 71,
      "outputs": [
        {
          "output_type": "stream",
          "name": "stdout",
          "text": [
            "The autoreload extension is already loaded. To reload it, use:\n",
            "  %reload_ext autoreload\n"
          ]
        }
      ]
    },
    {
      "cell_type": "code",
      "metadata": {
        "colab": {
          "base_uri": "https://localhost:8080/"
        },
        "id": "ihtq2hPOqQJ9",
        "outputId": "d744d950-0532-4afd-87ee-f807bf1d69b3"
      },
      "source": [
        "from google.colab import drive\n",
        "drive.mount('/content/drive')"
      ],
      "execution_count": 72,
      "outputs": [
        {
          "output_type": "stream",
          "name": "stdout",
          "text": [
            "Drive already mounted at /content/drive; to attempt to forcibly remount, call drive.mount(\"/content/drive\", force_remount=True).\n"
          ]
        }
      ]
    },
    {
      "cell_type": "code",
      "metadata": {
        "colab": {
          "base_uri": "https://localhost:8080/"
        },
        "id": "hW-8yuQ9qQZ5",
        "outputId": "bd2c97d0-b5f8-464d-f1f6-c3e581d96319"
      },
      "source": [
        "cd '/content/drive/Shareddrives/M202A Embedded Systems Project/data'"
      ],
      "execution_count": 73,
      "outputs": [
        {
          "output_type": "stream",
          "name": "stdout",
          "text": [
            "/content/drive/Shareddrives/M202A Embedded Systems Project/data\n"
          ]
        }
      ]
    },
    {
      "cell_type": "code",
      "metadata": {
        "id": "PvW3usRCqQcW"
      },
      "source": [
        "import numpy as np\n",
        "import pandas as pd\n",
        "from os import listdir\n",
        "import os.path\n",
        "import zipfile\n",
        "from keras.utils.np_utils import to_categorical\n",
        "import json\n",
        "from sklearn.model_selection import train_test_split"
      ],
      "execution_count": 74,
      "outputs": []
    },
    {
      "cell_type": "code",
      "metadata": {
        "id": "hSHMt6y5qQgQ"
      },
      "source": [
        "def get_header():\n",
        "    header = [\"acc_x\", \"acc_y\",\"acc_z\", \"gyro_x\", \"gyro_y\",\"gyro_z\", \"activityID\"]\n",
        "    return header\n",
        "\n",
        "def addheader(datasets):\n",
        "    \"\"\"\n",
        "    The columns of the pandas data frame are numbers\n",
        "    this function adds the column labels\n",
        "    Parameters\n",
        "    ----------\n",
        "    datasets : list\n",
        "        List of pandas dataframes\n",
        "    \"\"\"\n",
        "    header = get_header()\n",
        "    for i in range(0, len(datasets)):\n",
        "        datasets[i].columns = header\n",
        "    return datasets"
      ],
      "execution_count": 75,
      "outputs": []
    },
    {
      "cell_type": "code",
      "metadata": {
        "id": "NsApBGviqQit"
      },
      "source": [
        "def clip_data(ds):\n",
        "  '''\n",
        "  Takes in a data set and slices it to the first activityID and last activityID\n",
        "  Inputs:\n",
        "    - ds: a pandas dataset\n",
        "  Returns:\n",
        "    - ds: sliced pandas dataset, starting at the first nonzero activity ID and ending at the last nonzero activityID\n",
        "  '''\n",
        "  return ds[ds[ds.activityID != 0].first_valid_index():ds[ds.activityID != 0].last_valid_index()+1]"
      ],
      "execution_count": 76,
      "outputs": []
    },
    {
      "cell_type": "code",
      "metadata": {
        "id": "n08h-tilaMVN"
      },
      "source": [
        "def label_move(ds):\n",
        "  '''\n",
        "  Takes a data set in the form of [1, 0, ..., 2, 2, ... 0, 0,... n] and classifies the difference between key presses\n",
        "  '''\n",
        "  classifier_dict = {\n",
        "      1  : 1,\n",
        "      2  : 2,\n",
        "      3  : 3,\n",
        "      4  : 4,\n",
        "      -1 : -1,\n",
        "      -2 : -2,\n",
        "      -3 : -3,\n",
        "      -4 : -4\n",
        "  }\n",
        "  # Shorten the presses array to remove consecutive duplicates. [1, 2, 2, 2, 3, 3, 3, 2,...] -> [1, 2, 3, 2...]\n",
        "  presses = [val for val in ds if val != 0] # remove 0's\n",
        "  presses_short = []\n",
        "  lru_val = None\n",
        "  for i in range(len(presses)):\n",
        "    if i == 0:\n",
        "      presses_short.append(presses[i])\n",
        "      lru_val = presses[i]\n",
        "    else:\n",
        "      if presses[i] != lru_val:\n",
        "        presses_short.append(presses[i])\n",
        "        lru_val = presses[i]\n",
        "  # Create an array of the differences from the shortened presses list. [1, 2, 3, 2...] -> [1, 1, -1...]\n",
        "  diffs = []\n",
        "  for i in range(len(presses_short)):\n",
        "    try:\n",
        "      diffs.append(presses_short[i+1] - presses_short[i])\n",
        "    except IndexError:\n",
        "      pass\n",
        "  # Use the classifier dictionary to change negative movement to positive values\n",
        "  motions = [classifier_dict[val] for val in diffs]\n",
        "  # Go back and update ds with the motions\n",
        "  motions_idx = -1\n",
        "  new_ds = []\n",
        "  lru_val = None\n",
        "  for val in ds:\n",
        "    if lru_val == None:\n",
        "      new_ds.append(0)\n",
        "    else:\n",
        "      if val == lru_val:\n",
        "        if val == 0:\n",
        "          new_ds.append(motions[motions_idx])\n",
        "        else:\n",
        "          new_ds.append(0)\n",
        "      else:\n",
        "        if val == 0:\n",
        "          motions_idx += 1\n",
        "          new_ds.append(motions[motions_idx])\n",
        "        else:\n",
        "          new_ds.append(0)\n",
        "    lru_val = val\n",
        "  return new_ds"
      ],
      "execution_count": 77,
      "outputs": []
    },
    {
      "cell_type": "code",
      "metadata": {
        "id": "BPKtHDb6qQkl"
      },
      "source": [
        "def sliding_window(frame_length, step, Xsampleslist, ysampleslist):\n",
        "    \"\"\"\n",
        "    Splits time series in ysampleslist and Xsampleslist\n",
        "    into segments by applying a sliding overlapping window\n",
        "    of size equal to frame_length with steps equal to step\n",
        "    it does this for all the samples and appends all the output together.\n",
        "    So, the participant distinction is not kept\n",
        "    Parameters\n",
        "    ----------\n",
        "    frame_length : int\n",
        "        Length of sliding window\n",
        "    step : int\n",
        "        Stepsize between windows\n",
        "    Xsamples : list\n",
        "        Existing list of window fragments\n",
        "    ysamples : list\n",
        "        Existing list of window fragments\n",
        "    Xsampleslist : list\n",
        "        Samples to take sliding windows from\n",
        "    ysampleslist\n",
        "        Samples to take sliding windows from\n",
        "    \"\"\"\n",
        "    Xsamples = []\n",
        "    ysamples = []\n",
        "    for j in range(len(Xsampleslist)):\n",
        "        X = Xsampleslist[j]\n",
        "        y = ysampleslist[j]\n",
        "        for i in range(0, X.shape[0] - frame_length, step):\n",
        "            xsub = X[i:i + frame_length, :]\n",
        "            ysub = 0\n",
        "            for z in range(i,i + frame_length + 1, 1):\n",
        "              if y[z] == 1:\n",
        "                ysub = 1\n",
        "              elif y[z] == 2:\n",
        "                ysub = 2\n",
        "              elif y[z] == 3:\n",
        "                ysub = 3\n",
        "              elif y[z] == 4:\n",
        "                ysub = 4\n",
        "              elif y[z] == 5:\n",
        "                ysub = 5\n",
        "            # ysub = y\n",
        "            Xsamples.append(xsub)\n",
        "            ysamples.append(ysub)\n",
        "    return Xsamples, ysamples"
      ],
      "execution_count": 78,
      "outputs": []
    },
    {
      "cell_type": "code",
      "metadata": {
        "id": "shdK40g6qfEY"
      },
      "source": [
        "columns_to_use = [\"acc_x\", \"acc_y\",\"acc_z\", \"gyro_x\", \"gyro_y\",\"gyro_z\"]\n",
        "\n",
        "datadir = os.path.join('/content/drive/Shareddrives/M202A Embedded Systems Project/data');\n",
        "filenames = os.listdir(datadir)\n",
        "filenames.sort()\n",
        "datasets = [pd.read_csv(os.path.join(datadir, fn), header=None, sep=',')\n",
        "            for fn in filenames]\n",
        "#print(datasets)\n",
        "datasets = addheader(datasets)\n",
        "datasets_filled = [d.interpolate() for d in datasets]\n",
        "datasets_clipped = [clip_data(ds) for ds in datasets_filled]\n",
        "\n",
        "# Create input (x) and output (y) sets\n",
        "xall = [np.array(data[columns_to_use]) for data in datasets_clipped]\n",
        "yall = [np.array(data.activityID) for data in datasets_clipped]\n"
      ],
      "execution_count": 79,
      "outputs": []
    },
    {
      "cell_type": "code",
      "metadata": {
        "id": "LGm1bVWoqfKW"
      },
      "source": [
        "# Split data for training and testing\n",
        "X_train, X_test, y_train, y_test = train_test_split(xall, yall, test_size=0.20, random_state=9)"
      ],
      "execution_count": 80,
      "outputs": []
    },
    {
      "cell_type": "code",
      "metadata": {
        "id": "qlePZB-wqfN3"
      },
      "source": [
        "# window with 40 samples, each sample has 6 sensor data (acc x,y,z & gyro x,y,z) Thus, total of 240 sensor data in each window\n",
        "x_tr, y_tr = sliding_window(40,1,X_train,y_train)\n",
        "x_te, y_te = sliding_window(40,1,X_test,y_test)\n",
        "\n",
        "motions_y_tr = label_move(y_tr)\n",
        "motions_y_te = label_move(y_te)\n"
      ],
      "execution_count": 81,
      "outputs": []
    },
    {
      "cell_type": "code",
      "metadata": {
        "id": "WFb-V7IX2G4g"
      },
      "source": [
        "x_tr = np.reshape(x_tr, (-1,240))\n",
        "x_te = np.reshape(x_te, (-1,240))\n",
        "y_tr = motions_y_tr\n",
        "y_te = motions_y_te"
      ],
      "execution_count": 82,
      "outputs": []
    },
    {
      "cell_type": "code",
      "metadata": {
        "id": "rYPK2v6zxIZl"
      },
      "source": [
        "# Import different types of classifier\n",
        "from sklearn.svm import LinearSVC\n",
        "from sklearn.linear_model import LogisticRegression\n",
        "from sklearn.tree import DecisionTreeClassifier\n",
        "from sklearn.ensemble import RandomForestClassifier\n",
        "from sklearn.naive_bayes import GaussianNB\n",
        "from sklearn.neighbors import KNeighborsClassifier\n",
        "from sklearn.ensemble import BaggingClassifier\n",
        "\n",
        "# model = BaggingClassifier(base_estimator=RandomForestClassifier(),n_estimators=10, random_state=0)\n",
        "# model = KNeighborsClassifier(n_neighbors=10)\n",
        "# model = GaussianNB()\n",
        "# model = RandomForestClassifier(max_depth=10)\n",
        "# model = DecisionTreeClassifier()\n",
        "model = LogisticRegression(max_iter=1000)\n",
        "# model = LinearSVC()\n",
        "\n",
        "model.fit(x_tr, y_tr)"
      ],
      "execution_count": null,
      "outputs": []
    },
    {
      "cell_type": "code",
      "metadata": {
        "colab": {
          "base_uri": "https://localhost:8080/",
          "height": 503
        },
        "id": "eCE9NPEoxNGc",
        "outputId": "f486ad2d-168b-4e0d-d6e8-d0f649cbe044"
      },
      "source": [
        "predictions = model.predict(x_te)\n",
        "print(predictions)\n",
        "\n",
        "import matplotlib.pyplot as plt\n",
        "from sklearn.metrics import confusion_matrix\n",
        "from sklearn.metrics import accuracy_score, precision_score, recall_score\n",
        "from sklearn.metrics import plot_confusion_matrix\n",
        "\n",
        "cm = confusion_matrix(y_te, predictions)\n",
        "display(cm)\n",
        "\n",
        "accuracy = accuracy_score(y_te, predictions)\n",
        "\n",
        "plot_confusion_matrix(model, x_te, y_te)  \n",
        "plt.show()\n",
        "print('Accuracy = {:0.5f}'.format(accuracy))"
      ],
      "execution_count": 84,
      "outputs": [
        {
          "output_type": "stream",
          "name": "stdout",
          "text": [
            "[ 0  0  0 ... -2 -2 -2]\n"
          ]
        },
        {
          "output_type": "display_data",
          "data": {
            "text/plain": [
              "array([[ 164,   20,    9,    0,    2,    0,    0,    0],\n",
              "       [   0,   79,   13,    0,    2,    0,    0,    0],\n",
              "       [   0,   37,  623,  134,   22,    0,    0,    0],\n",
              "       [   0,    0,    0,  464,   23,    0,    0,    0],\n",
              "       [   2,    1,   11,    4, 2355,    6,   27,    4],\n",
              "       [   0,    0,    0,    0,   12,  316,    0,    0],\n",
              "       [   0,    0,    0,    0,   38,   30, 1094,   16],\n",
              "       [   0,    0,    0,    0,    0,    1,    6,   74]])"
            ]
          },
          "metadata": {}
        },
        {
          "output_type": "stream",
          "name": "stderr",
          "text": [
            "/usr/local/lib/python3.7/dist-packages/sklearn/utils/deprecation.py:87: FutureWarning: Function plot_confusion_matrix is deprecated; Function `plot_confusion_matrix` is deprecated in 1.0 and will be removed in 1.2. Use one of the class methods: ConfusionMatrixDisplay.from_predictions or ConfusionMatrixDisplay.from_estimator.\n",
            "  warnings.warn(msg, category=FutureWarning)\n"
          ]
        },
        {
          "output_type": "display_data",
          "data": {
            "image/png": "[encoded data removed]",
            "text/plain": [
              "<Figure size 432x288 with 2 Axes>"
            ]
          },
          "metadata": {
            "needs_background": "light"
          }
        },
        {
          "output_type": "stream",
          "name": "stdout",
          "text": [
            "Accuracy = 0.92485\n"
          ]
        }
      ]
    }
  ]
}