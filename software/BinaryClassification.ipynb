{
  "nbformat": 4,
  "nbformat_minor": 0,
  "metadata": {
    "colab": {
      "name": "BinaryClassification.ipynb",
      "provenance": [],
      "collapsed_sections": []
    },
    "kernelspec": {
      "name": "python3",
      "display_name": "Python 3"
    },
    "language_info": {
      "name": "python"
    }
  },
  "cells": [
    {
      "cell_type": "code",
      "metadata": {
        "id": "M2EORcR1KK8q",
        "colab": {
          "base_uri": "https://localhost:8080/"
        },
        "outputId": "4691319c-b099-4004-a884-eec2c5497314"
      },
      "source": [
        "%load_ext autoreload\n",
        "%autoreload 2"
      ],
      "execution_count": 124,
      "outputs": [
        {
          "output_type": "stream",
          "name": "stdout",
          "text": [
            "The autoreload extension is already loaded. To reload it, use:\n",
            "  %reload_ext autoreload\n"
          ]
        }
      ]
    },
    {
      "cell_type": "code",
      "metadata": {
        "colab": {
          "base_uri": "https://localhost:8080/"
        },
        "id": "Lq1i-rwRKokp",
        "outputId": "50492e4a-2fd0-4e62-9389-001658775791"
      },
      "source": [
        "from google.colab import drive\n",
        "drive.mount('/content/drive')"
      ],
      "execution_count": 125,
      "outputs": [
        {
          "output_type": "stream",
          "name": "stdout",
          "text": [
            "Drive already mounted at /content/drive; to attempt to forcibly remount, call drive.mount(\"/content/drive\", force_remount=True).\n"
          ]
        }
      ]
    },
    {
      "cell_type": "code",
      "metadata": {
        "colab": {
          "base_uri": "https://localhost:8080/"
        },
        "id": "wucNLc9lKz0v",
        "outputId": "aea6f7aa-c117-42ca-c965-54813cfad9a6"
      },
      "source": [
        "cd '/content/drive/Shareddrives/M202A Embedded Systems Project/data'"
      ],
      "execution_count": 126,
      "outputs": [
        {
          "output_type": "stream",
          "name": "stdout",
          "text": [
            "/content/drive/Shareddrives/M202A Embedded Systems Project/data\n"
          ]
        }
      ]
    },
    {
      "cell_type": "code",
      "metadata": {
        "id": "AbKzSeXgK1WY"
      },
      "source": [
        "import numpy as np\n",
        "import pandas as pd\n",
        "from os import listdir\n",
        "import os.path\n",
        "import zipfile\n",
        "from keras.utils.np_utils import to_categorical\n",
        "import json\n",
        "from sklearn.model_selection import train_test_split\n",
        "# import pykalman"
      ],
      "execution_count": 127,
      "outputs": []
    },
    {
      "cell_type": "code",
      "metadata": {
        "id": "A7l7-7QSMXPG"
      },
      "source": [
        "def get_header():\n",
        "    header = [\"acc_x\", \"acc_y\",\"acc_z\", \"gyro_x\", \"gyro_y\",\"gyro_z\", \"activityID\"]\n",
        "    return header\n",
        "\n",
        "def addheader(datasets):\n",
        "    \"\"\"\n",
        "    The columns of the pandas data frame are numbers\n",
        "    this function adds the column labels\n",
        "    Parameters\n",
        "    ----------\n",
        "    datasets : list\n",
        "        List of pandas dataframes\n",
        "    \"\"\"\n",
        "    header = get_header()\n",
        "    for i in range(0, len(datasets)):\n",
        "        datasets[i].columns = header\n",
        "    return datasets"
      ],
      "execution_count": 128,
      "outputs": []
    },
    {
      "cell_type": "code",
      "metadata": {
        "id": "fL5C7YPQaL2x"
      },
      "source": [
        "def clip_data(ds):\n",
        "  '''\n",
        "  Takes in a data set and slices it to the first activityID and last activityID\n",
        "  Inputs:\n",
        "    - ds: a pandas dataset\n",
        "  Returns:\n",
        "    - ds: sliced pandas dataset, starting at the first nonzero activity ID and ending at the last nonzero activityID\n",
        "  '''\n",
        "  return ds[ds[ds.activityID != 0].first_valid_index():ds[ds.activityID != 0].last_valid_index()+1]"
      ],
      "execution_count": 129,
      "outputs": []
    },
    {
      "cell_type": "code",
      "metadata": {
        "id": "fkT9Kuy1fr8r"
      },
      "source": [
        "def sliding_window(frame_length, step, Xsampleslist, ysampleslist):\n",
        "    \"\"\"\n",
        "    Splits time series in ysampleslist and Xsampleslist\n",
        "    into segments by applying a sliding overlapping window\n",
        "    of size equal to frame_length with steps equal to step\n",
        "    it does this for all the samples and appends all the output together.\n",
        "    So, the participant distinction is not kept\n",
        "    Parameters\n",
        "    ----------\n",
        "    frame_length : int\n",
        "        Length of sliding window\n",
        "    step : int\n",
        "        Stepsize between windows\n",
        "    Xsamples : list\n",
        "        Existing list of window fragments\n",
        "    ysamples : list\n",
        "        Existing list of window fragments\n",
        "    Xsampleslist : list\n",
        "        Samples to take sliding windows from\n",
        "    ysampleslist\n",
        "        Samples to take sliding windows from\n",
        "    \"\"\"\n",
        "    Xsamples = []\n",
        "    ysamples = []\n",
        "    for j in range(len(Xsampleslist)):\n",
        "        X = Xsampleslist[j]\n",
        "        y = ysampleslist[j]\n",
        "        for i in range(0, X.shape[0] - frame_length, step):\n",
        "            xsub = X[i:i + frame_length, :]\n",
        "            ysub = 0\n",
        "            for z in range(i,i + frame_length + 1, 1):\n",
        "              if y[z] == 1:\n",
        "                ysub = 1\n",
        "            # ysub = y\n",
        "            Xsamples.append(xsub)\n",
        "            ysamples.append(ysub)\n",
        "    return Xsamples, ysamples"
      ],
      "execution_count": 130,
      "outputs": []
    },
    {
      "cell_type": "code",
      "metadata": {
        "id": "Fl8I0UxWK7BQ"
      },
      "source": [
        "columns_to_use = [\"acc_x\", \"acc_y\",\"acc_z\", \"gyro_x\", \"gyro_y\",\"gyro_z\"]\n",
        "\n",
        "datadir = os.path.join('/content/drive/Shareddrives/M202A Embedded Systems Project/data');\n",
        "filenames = os.listdir(datadir)\n",
        "filenames.sort()\n",
        "datasets = [pd.read_csv(os.path.join(datadir, fn), header=None, sep=',')\n",
        "            for fn in filenames]\n",
        "#print(datasets)\n",
        "datasets = addheader(datasets)\n",
        "datasets_filled = [d.interpolate() for d in datasets]\n",
        "datasets_clipped = [clip_data(ds) for ds in datasets_filled]\n",
        "\n",
        "# Create input (x) and output (y) sets\n",
        "xall = [np.array(data[columns_to_use]) for data in datasets_clipped]\n",
        "yall = [np.array(data.activityID) for data in datasets_clipped]\n",
        "yall_one = [[0 if val == 0 else 1 for val in data] for data in yall] # replaces all 1-5 with 1 for binary classifier"
      ],
      "execution_count": 131,
      "outputs": []
    },
    {
      "cell_type": "code",
      "metadata": {
        "id": "cHDDljqnNJmd"
      },
      "source": [
        "X_train, X_test, y_train, y_test = train_test_split(xall, yall_one , test_size=0.20, random_state=9)\n",
        "# display(X_test)\n",
        "\n",
        "# window with 40 samples, each sample has 6 sensor data (acc x,y,z & gyro x,y,z) Thus, total of 240 sensor data in each window\n",
        "x_tr, y_tr = sliding_window(40,1,X_train,y_train)\n",
        "x_te, y_te = sliding_window(40,1,X_test,y_test)\n",
        "\n",
        "x_tr = np.reshape(x_tr, (-1,240))\n",
        "x_te = np.reshape(x_te, (-1,240))"
      ],
      "execution_count": 132,
      "outputs": []
    },
    {
      "cell_type": "code",
      "metadata": {
        "id": "aSkxM2WiNlJG"
      },
      "source": [
        "# Import different types of classifier\n",
        "from sklearn.svm import LinearSVC\n",
        "from sklearn.linear_model import LogisticRegression\n",
        "from sklearn.tree import DecisionTreeClassifier\n",
        "from sklearn.ensemble import RandomForestClassifier\n",
        "from sklearn.naive_bayes import GaussianNB\n",
        "from sklearn.neighbors import KNeighborsClassifier\n",
        "from sklearn.ensemble import BaggingClassifier\n",
        "\n",
        "# model_binary = BaggingClassifier(base_estimator=LinearSVC(),n_estimators=10, random_state=0)\n",
        "# model_binary = KNeighborsClassifier()\n",
        "# model_binary = GaussianNB()\n",
        "# model_binary = RandomForestClassifier(max_depth=10)\n",
        "# model_binary = DecisionTreeClassifier()\n",
        "model_binary = LogisticRegression(max_iter=1000,random_state=0)\n",
        "# model_binary = LinearSVC()\n",
        "\n",
        "model_binary.fit(x_tr, y_tr)"
      ],
      "execution_count": null,
      "outputs": []
    },
    {
      "cell_type": "code",
      "metadata": {
        "id": "kJFNP2STghzN",
        "colab": {
          "base_uri": "https://localhost:8080/",
          "height": 401
        },
        "outputId": "a1fcc913-cedb-4c17-b392-cf0fd2be9f6e"
      },
      "source": [
        "predictions = model_binary.predict(x_te)\n",
        "# display(predictions)\n",
        "\n",
        "import matplotlib.pyplot as plt\n",
        "from sklearn.metrics import confusion_matrix\n",
        "from sklearn.metrics import accuracy_score, precision_score, recall_score\n",
        "from sklearn.metrics import plot_confusion_matrix\n",
        "\n",
        "cm = confusion_matrix(y_te, predictions)\n",
        "display(cm)\n",
        "\n",
        "accuracy = accuracy_score(y_te, predictions)\n",
        "precision = precision_score(y_te, predictions)\n",
        "recall = recall_score(y_te, predictions)\n",
        "print('Accuracy = {:0.5f}, Precision = {:0.5f}, Recall = {:0.5f}'.format(accuracy,precision,recall))\n",
        "\n",
        "plot_confusion_matrix(model_binary, x_te, y_te)  \n",
        "plt.show()\n",
        "print('Accuracy = {:0.5f}, Precision = {:0.5f}, Recall = {:0.5f}'.format(accuracy,precision,recall))"
      ],
      "execution_count": 134,
      "outputs": [
        {
          "output_type": "display_data",
          "data": {
            "text/plain": [
              "array([[3115,   64],\n",
              "       [  36, 2374]])"
            ]
          },
          "metadata": {}
        },
        {
          "output_type": "stream",
          "name": "stderr",
          "text": [
            "/usr/local/lib/python3.7/dist-packages/sklearn/utils/deprecation.py:87: FutureWarning: Function plot_confusion_matrix is deprecated; Function `plot_confusion_matrix` is deprecated in 1.0 and will be removed in 1.2. Use one of the class methods: ConfusionMatrixDisplay.from_predictions or ConfusionMatrixDisplay.from_estimator.\n",
            "  warnings.warn(msg, category=FutureWarning)\n"
          ]
        },
        {
          "output_type": "stream",
          "name": "stdout",
          "text": [
            "Accuracy = 0.98211, Precision = 0.97375, Recall = 0.98506\n"
          ]
        },
        {
          "output_type": "display_data",
          "data": {
            "image/png": "[encoded data removed]",
            "text/plain": [
              "<Figure size 432x288 with 2 Axes>"
            ]
          },
          "metadata": {
            "needs_background": "light"
          }
        },
        {
          "output_type": "stream",
          "name": "stdout",
          "text": [
            "Accuracy = 0.98211, Precision = 0.97375, Recall = 0.98506\n"
          ]
        }
      ]
    }
  ]
}