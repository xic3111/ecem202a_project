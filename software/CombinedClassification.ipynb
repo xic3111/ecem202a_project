{
  "nbformat": 4,
  "nbformat_minor": 0,
  "metadata": {
    "colab": {
      "name": "CombinedClassification.ipynb",
      "provenance": [],
      "collapsed_sections": []
    },
    "kernelspec": {
      "name": "python3",
      "display_name": "Python 3"
    },
    "language_info": {
      "name": "python"
    }
  },
  "cells": [
    {
      "cell_type": "code",
      "metadata": {
        "id": "vdsm7tahiaCX",
        "colab": {
          "base_uri": "https://localhost:8080/"
        },
        "outputId": "f766fedc-da52-44b3-a49e-3f0c5958b637"
      },
      "source": [
        "%load_ext autoreload\n",
        "%autoreload 2"
      ],
      "execution_count": 3,
      "outputs": [
        {
          "output_type": "stream",
          "name": "stdout",
          "text": [
            "The autoreload extension is already loaded. To reload it, use:\n",
            "  %reload_ext autoreload\n"
          ]
        }
      ]
    },
    {
      "cell_type": "code",
      "metadata": {
        "colab": {
          "base_uri": "https://localhost:8080/"
        },
        "id": "wNnF8EvgiaqT",
        "outputId": "507a18ae-8fbd-47fc-b4ec-ca896aec975a"
      },
      "source": [
        "from google.colab import drive\n",
        "drive.mount('/content/drive')"
      ],
      "execution_count": 4,
      "outputs": [
        {
          "output_type": "stream",
          "name": "stdout",
          "text": [
            "Mounted at /content/drive\n"
          ]
        }
      ]
    },
    {
      "cell_type": "code",
      "metadata": {
        "colab": {
          "base_uri": "https://localhost:8080/"
        },
        "id": "yRhaBO-ticg5",
        "outputId": "fe49cd3e-470a-402e-fd0c-4913a03b8e5d"
      },
      "source": [
        "cd '/content/drive/Shareddrives/M202A Embedded Systems Project/data'"
      ],
      "execution_count": 5,
      "outputs": [
        {
          "output_type": "stream",
          "name": "stdout",
          "text": [
            "/content/drive/Shareddrives/M202A Embedded Systems Project/data\n"
          ]
        }
      ]
    },
    {
      "cell_type": "code",
      "metadata": {
        "id": "SLtv1tbSigWj"
      },
      "source": [
        "import numpy as np\n",
        "import pandas as pd\n",
        "from os import listdir\n",
        "import os.path\n",
        "import zipfile\n",
        "from keras.utils.np_utils import to_categorical\n",
        "import json\n",
        "from sklearn.model_selection import train_test_split"
      ],
      "execution_count": 6,
      "outputs": []
    },
    {
      "cell_type": "code",
      "metadata": {
        "id": "HtzXiM_iii1F"
      },
      "source": [
        "def get_header():\n",
        "    header = [\"acc_x\", \"acc_y\",\"acc_z\", \"gyro_x\", \"gyro_y\",\"gyro_z\", \"activityID\"]\n",
        "    return header\n",
        "\n",
        "def addheader(datasets):\n",
        "    \"\"\"\n",
        "    The columns of the pandas data frame are numbers\n",
        "    this function adds the column labels\n",
        "    Parameters\n",
        "    ----------\n",
        "    datasets : list\n",
        "        List of pandas dataframes\n",
        "    \"\"\"\n",
        "    header = get_header()\n",
        "    for i in range(0, len(datasets)):\n",
        "        datasets[i].columns = header\n",
        "    return datasets\n",
        "\n",
        "def clip_data(ds):\n",
        "  '''\n",
        "  Takes in a data set and slices it to the first activityID and last activityID\n",
        "  Inputs:\n",
        "    - ds: a pandas dataset\n",
        "  Returns:\n",
        "    - ds: sliced pandas dataset, starting at the first nonzero activity ID and ending at the last nonzero activityID\n",
        "  '''\n",
        "  return ds[ds[ds.activityID != 0].first_valid_index():ds[ds.activityID != 0].last_valid_index()+1]\n",
        "\n",
        "def label_move(ds):\n",
        "  '''\n",
        "  For segment classification\n",
        "  Takes a data set in the form of [1, 0, ..., 2, 2, ... 0, 0,... n] and classifies the difference between key presses\n",
        "  '''\n",
        "  classifier_dict = {\n",
        "      1  : 1,\n",
        "      2  : 2,\n",
        "      3  : 3,\n",
        "      4  : 4,\n",
        "      -1 : -1,\n",
        "      -2 : -2,\n",
        "      -3 : -3,\n",
        "      -4 : -4\n",
        "  }\n",
        "  # Shorten the presses array to remove consecutive duplicates. [1, 2, 2, 2, 3, 3, 3, 2,...] -> [1, 2, 3, 2...]\n",
        "  presses = [val for val in ds if val != 0] # remove 0's\n",
        "  presses_short = []\n",
        "  lru_val = None\n",
        "  for i in range(len(presses)):\n",
        "    if i == 0:\n",
        "      presses_short.append(presses[i])\n",
        "      lru_val = presses[i]\n",
        "    else:\n",
        "      if presses[i] != lru_val:\n",
        "        presses_short.append(presses[i])\n",
        "        lru_val = presses[i]\n",
        "  # Create an array of the differences from the shortened presses list. [1, 2, 3, 2...] -> [1, 1, -1...]\n",
        "  diffs = []\n",
        "  for i in range(len(presses_short)):\n",
        "    try:\n",
        "      diffs.append(presses_short[i+1] - presses_short[i])\n",
        "    except IndexError:\n",
        "      pass\n",
        "  # Use the classifier dictionary to change negative movement to positive values\n",
        "  motions = [classifier_dict[val] for val in diffs]\n",
        "  # Go back and update ds with the motions\n",
        "  motions_idx = -1\n",
        "  new_ds = []\n",
        "  lru_val = None\n",
        "  for val in ds:\n",
        "    if lru_val == None:\n",
        "      new_ds.append(0)\n",
        "    else:\n",
        "      if val == lru_val:\n",
        "        if val == 0:\n",
        "          new_ds.append(motions[motions_idx])\n",
        "        else:\n",
        "          new_ds.append(0)\n",
        "      else:\n",
        "        if val == 0:\n",
        "          motions_idx += 1\n",
        "          new_ds.append(motions[motions_idx])\n",
        "        else:\n",
        "          new_ds.append(0)\n",
        "    lru_val = val\n",
        "  return new_ds\n",
        "\n",
        "def sliding_window(frame_length, step, Xsampleslist, ysampleslist):\n",
        "    \"\"\"\n",
        "    Splits time series in ysampleslist and Xsampleslist\n",
        "    into segments by applying a sliding overlapping window\n",
        "    of size equal to frame_length with steps equal to step\n",
        "    it does this for all the samples and appends all the output together.\n",
        "    So, the participant distinction is not kept\n",
        "    Parameters\n",
        "    ----------\n",
        "    frame_length : int\n",
        "        Length of sliding window\n",
        "    step : int\n",
        "        Stepsize between windows\n",
        "    Xsamples : list\n",
        "        Existing list of window fragments\n",
        "    ysamples_binary : list\n",
        "        Existing list of window fragments\n",
        "    ysamples_segment : list\n",
        "        Existing list of window fragments\n",
        "    Xsampleslist : list\n",
        "        Samples to take sliding windows from\n",
        "    ysampleslist\n",
        "        Samples to take sliding windows from\n",
        "    \"\"\"\n",
        "    Xsamples = []\n",
        "    ysamples_binary = []\n",
        "    ysamples_segment = []\n",
        "    for j in range(len(Xsampleslist)):\n",
        "        X = Xsampleslist[j]\n",
        "        y = ysampleslist[j]\n",
        "        for i in range(0, X.shape[0] - frame_length, step):\n",
        "            xsub = X[i:i + frame_length, :]\n",
        "            ysub_binary = 0\n",
        "            ysub_segment = 0\n",
        "            for z in range(i,i + frame_length + 1, 1):\n",
        "              if y[z] == 1:\n",
        "                ysub_binary = 1\n",
        "                ysub_segment = 1\n",
        "              elif y[z] == 2:\n",
        "                ysub_binary = 1\n",
        "                ysub_segment = 2\n",
        "              elif y[z] == 3:\n",
        "                ysub_binary = 1\n",
        "                ysub_segment = 3\n",
        "              elif y[z] == 4:\n",
        "                ysub_binary = 1\n",
        "                ysub_segment = 4\n",
        "              elif y[z] == 5:\n",
        "                ysub_binary = 1\n",
        "                ysub_segment = 5\n",
        "            Xsamples.append(xsub)\n",
        "            ysamples_binary.append(ysub_binary)\n",
        "            ysamples_segment.append(ysub_segment)\n",
        "    return Xsamples, ysamples_binary, ysamples_segment"
      ],
      "execution_count": 7,
      "outputs": []
    },
    {
      "cell_type": "code",
      "metadata": {
        "id": "4rCBljlHixVc"
      },
      "source": [
        "columns_to_use = [\"acc_x\", \"acc_y\",\"acc_z\", \"gyro_x\", \"gyro_y\",\"gyro_z\"]\n",
        "\n",
        "datadir = os.path.join('/content/drive/Shareddrives/M202A Embedded Systems Project/data');\n",
        "filenames = os.listdir(datadir)\n",
        "filenames.sort()\n",
        "datasets = [pd.read_csv(os.path.join(datadir, fn), header=None, sep=',')\n",
        "            for fn in filenames]\n",
        "\n",
        "datasets = addheader(datasets)\n",
        "datasets_filled = [d.interpolate() for d in datasets]\n",
        "\n",
        "# Clip out useless sensor data before pressing start and end\n",
        "datasets_clipped = [clip_data(ds) for ds in datasets_filled]\n",
        "\n",
        "# Create input (x) and output (y) sets\n",
        "xall = [np.array(data[columns_to_use]) for data in datasets_clipped]\n",
        "yall = [np.array(data.activityID) for data in datasets_clipped]"
      ],
      "execution_count": 8,
      "outputs": []
    },
    {
      "cell_type": "code",
      "metadata": {
        "id": "RJIXZ2cdiyQb"
      },
      "source": [
        "# Train test data split for classification\n",
        "X_train, X_test, y_train, y_test = train_test_split(xall, yall , test_size=0.20, random_state=9)\n",
        "\n",
        "# window with 40 samples, each sample has 6 sensor data (acc x,y,z & gyro x,y,z) Thus, total of 240 sensor data in each window\n",
        "x_tr, y_tr_binary, y_tr_segment = sliding_window(40,1,X_train,y_train)\n",
        "x_te, y_te_binary, y_te_segment = sliding_window(40,1,X_test,y_test)\n",
        "\n",
        "# Reshape 40*6 samples to 240 samples shape\n",
        "x_tr = np.reshape(x_tr, (-1,240))\n",
        "x_te = np.reshape(x_te, (-1,240))\n",
        "\n",
        "# Relabel motions to unit moved between presses\n",
        "motions_y_tr_segment = label_move(y_tr_segment)\n",
        "motions_y_te_segment = label_move(y_te_segment)"
      ],
      "execution_count": 9,
      "outputs": []
    },
    {
      "cell_type": "code",
      "metadata": {
        "id": "uO20nslTi6Ct"
      },
      "source": [
        "# Import different types of classifier\n",
        "from sklearn.svm import LinearSVC\n",
        "from sklearn.linear_model import LogisticRegression\n",
        "from sklearn.tree import DecisionTreeClassifier\n",
        "from sklearn.ensemble import RandomForestClassifier\n",
        "from sklearn.naive_bayes import GaussianNB\n",
        "from sklearn.neighbors import KNeighborsClassifier\n",
        "from sklearn.ensemble import BaggingClassifier\n",
        "\n",
        "# model = BaggingClassifier(base_estimator=LinearSVC(),n_estimators=10, random_state=0)\n",
        "# model = KNeighborsClassifier()\n",
        "# model = GaussianNB()\n",
        "# model = RandomForestClassifier()\n",
        "# model = DecisionTreeClassifier()\n",
        "# model = LogisticRegression(max_iter=1000)\n",
        "# model = LinearSVC()\n",
        "\n",
        "# Binary classification model\n",
        "model_binary = LogisticRegression(max_iter=1000)\n",
        "model_binary.fit(x_tr, y_tr_binary)\n",
        "\n",
        "# Segment classification model\n",
        "model_segment = LogisticRegression(max_iter=1000)\n",
        "model_segment.fit(x_tr, motions_y_tr_segment)"
      ],
      "execution_count": null,
      "outputs": []
    },
    {
      "cell_type": "code",
      "metadata": {
        "colab": {
          "base_uri": "https://localhost:8080/",
          "height": 663
        },
        "id": "5yXj3bwQi9Gr",
        "outputId": "c6b45f6f-8555-43f6-9bce-8824414f88ed"
      },
      "source": [
        "import matplotlib.pyplot as plt\n",
        "from sklearn.metrics import confusion_matrix\n",
        "from sklearn.metrics import accuracy_score, precision_score, recall_score\n",
        "from sklearn.metrics import plot_confusion_matrix\n",
        "\n",
        "# Prediction and confusion matrix for binary classification\n",
        "predictions_binary = model_binary.predict(x_te)\n",
        "\n",
        "accuracy_binary = accuracy_score(y_te_binary, predictions_binary)\n",
        "precision_binary = precision_score(y_te_binary, predictions_binary)\n",
        "recall_binary = recall_score(y_te_binary, predictions_binary)\n",
        "\n",
        "plot_confusion_matrix(model_binary, x_te, y_te_binary)  \n",
        "plt.show()\n",
        "print('Accuracy = {:0.5f}, Precision = {:0.5f}, Recall = {:0.5f}'.format(accuracy_binary,precision_binary,recall_binary))\n",
        "\n",
        "# Prediction and confusion matrix for segment classification\n",
        "predictions_segment = model_segment.predict(x_te)\n",
        "\n",
        "accuracy_segment = accuracy_score(motions_y_te_segment, predictions_segment)\n",
        "\n",
        "plot_confusion_matrix(model_segment, x_te, motions_y_te_segment)  \n",
        "plt.show()\n",
        "print('Accuracy = {:0.5f}'.format(accuracy_segment))"
      ],
      "execution_count": 11,
      "outputs": [
        {
          "output_type": "stream",
          "name": "stderr",
          "text": [
            "/usr/local/lib/python3.7/dist-packages/sklearn/utils/deprecation.py:87: FutureWarning: Function plot_confusion_matrix is deprecated; Function `plot_confusion_matrix` is deprecated in 1.0 and will be removed in 1.2. Use one of the class methods: ConfusionMatrixDisplay.from_predictions or ConfusionMatrixDisplay.from_estimator.\n",
            "  warnings.warn(msg, category=FutureWarning)\n"
          ]
        },
        {
          "output_type": "display_data",
          "data": {
            "image/png": "[encoded data removed]",
            "text/plain": [
              "<Figure size 432x288 with 2 Axes>"
            ]
          },
          "metadata": {
            "needs_background": "light"
          }
        },
        {
          "output_type": "stream",
          "name": "stdout",
          "text": [
            "Accuracy = 0.98211, Precision = 0.97375, Recall = 0.98506\n"
          ]
        },
        {
          "output_type": "stream",
          "name": "stderr",
          "text": [
            "/usr/local/lib/python3.7/dist-packages/sklearn/utils/deprecation.py:87: FutureWarning: Function plot_confusion_matrix is deprecated; Function `plot_confusion_matrix` is deprecated in 1.0 and will be removed in 1.2. Use one of the class methods: ConfusionMatrixDisplay.from_predictions or ConfusionMatrixDisplay.from_estimator.\n",
            "  warnings.warn(msg, category=FutureWarning)\n"
          ]
        },
        {
          "output_type": "display_data",
          "data": {
            "image/png": "[encoded data removed]",
            "text/plain": [
              "<Figure size 432x288 with 2 Axes>"
            ]
          },
          "metadata": {
            "needs_background": "light"
          }
        },
        {
          "output_type": "stream",
          "name": "stdout",
          "text": [
            "Accuracy = 0.92485\n"
          ]
        }
      ]
    },
    {
      "cell_type": "code",
      "metadata": {
        "id": "pIsi3lp1wdX6"
      },
      "source": [
        "# import joblib\n",
        " \n",
        "# # Save the models as a pickle in a file\n",
        "# joblib.dump(model_binary, '/content/drive/Shareddrives/M202A Embedded Systems Project/Models/model_binary.pkl')\n",
        "# joblib.dump(model_segment, '/content/drive/Shareddrives/M202A Embedded Systems Project/Models/model_segment.pkl')"
      ],
      "execution_count": 12,
      "outputs": []
    },
    {
      "cell_type": "code",
      "metadata": {
        "id": "YaMMzheZyD3c"
      },
      "source": [
        "# # Load binary classifier and make prediction\n",
        "# model_binary_loaded = joblib.load('/content/drive/Shareddrives/M202A Embedded Systems Project/Models/model_binary.pkl')\n",
        "\n",
        "# predictions_binary_loaded = model_binary_loaded.predict(x_te)\n",
        "\n",
        "# accuracy_binary_loaded = accuracy_score(y_te_binary, predictions_binary_loaded)\n",
        "# precision_binary_loaded = precision_score(y_te_binary, predictions_binary_loaded)\n",
        "# recall_binary_loaded = recall_score(y_te_binary, predictions_binary_loaded)\n",
        "\n",
        "# plot_confusion_matrix(model_binary_loaded, x_te, y_te_binary)  \n",
        "# plt.show()\n",
        "# print('Accuracy = {:0.5f}, Precision = {:0.5f}, Recall = {:0.5f}'.format(accuracy_binary_loaded,precision_binary_loaded,recall_binary_loaded))"
      ],
      "execution_count": 13,
      "outputs": []
    },
    {
      "cell_type": "code",
      "metadata": {
        "id": "CkUh1SWqXT--"
      },
      "source": [
        "def most_frequent(l):\n",
        "  '''\n",
        "  Takes in a list and returns the most frequently occurring element\n",
        "  This function is not designed to be used where two elements may occur with equal frequency, but this is a very unlikely occurrence here.\n",
        "  '''\n",
        "  counts = {}\n",
        "  l = list(l)\n",
        "  for i in set(l):\n",
        "    counts[i] = l.count(i)\n",
        "  return list(counts.keys())[list(counts.values()).index(max(counts.values()))]"
      ],
      "execution_count": 14,
      "outputs": []
    },
    {
      "cell_type": "code",
      "metadata": {
        "id": "BWVO5dLuSuJB"
      },
      "source": [
        "#TODO: translate to C\n",
        "predictions_press = []\n",
        "last_press = 1\n",
        "last_press_idx = 0\n",
        "for i in range(len(predictions_binary)-1):\n",
        "  press_predicted = predictions_binary[i] == predictions_binary[i-1] == predictions_binary[i+1] == 1\n",
        "  if press_predicted:\n",
        "    movement_guess = most_frequent(predictions_segment[last_press_idx:i])\n",
        "    last_press = last_press + movement_guess\n",
        "    if last_press < 1:\n",
        "      last_press = 1\n",
        "    elif last_press > 5:\n",
        "      last_press = 5\n",
        "    last_press_idx = i\n",
        "    predictions_press.append(last_press)\n",
        "  else:\n",
        "    predictions_press.append(0)\n",
        "predictions_press.append(last_press) # predicting presses has a range of (0, <data length-1>). this adjusts it to fit data length"
      ],
      "execution_count": 15,
      "outputs": []
    },
    {
      "cell_type": "code",
      "metadata": {
        "id": "2CoqvrZoJyyr"
      },
      "source": [
        "# Testing and comparing the output\n",
        "z = 0\n",
        "while(z < len(predictions_binary)/4):\n",
        "  print(y_te_segment[z], predictions_binary[z], predictions_segment[z], predictions_press[z])\n",
        "  z = z + 1"
      ],
      "execution_count": null,
      "outputs": []
    },
    {
      "cell_type": "code",
      "metadata": {
        "id": "9WdAr_Q4hYZz",
        "colab": {
          "base_uri": "https://localhost:8080/"
        },
        "outputId": "b3a6cd90-eb27-4ce3-ce0d-263b23537211"
      },
      "source": [
        "accuracy_comb = accuracy_score(y_te_segment, predictions_press)\n",
        "print('Accuracy = {:0.5f}'.format(accuracy_comb))"
      ],
      "execution_count": 17,
      "outputs": [
        {
          "output_type": "stream",
          "name": "stdout",
          "text": [
            "Accuracy = 0.82984\n"
          ]
        }
      ]
    },
    {
      "cell_type": "code",
      "metadata": {
        "id": "v3GdW1GcmLxj"
      },
      "source": [
        "# !pip install micromlgen"
      ],
      "execution_count": 18,
      "outputs": []
    },
    {
      "cell_type": "code",
      "metadata": {
        "id": "5sTFG8qPmQQ1"
      },
      "source": [
        "# Using microml to convert model to 'c' language\n",
        "from micromlgen import port\n",
        "\n",
        "with open('/content/drive/Shareddrives/M202A Embedded Systems Project/Models/model_binary_microml.h', 'w') as writefile:\n",
        "    writefile.write(port(model_binary))\n",
        "\n",
        "with open('/content/drive/Shareddrives/M202A Embedded Systems Project/Models/model_segment_microml.h', 'w') as writefile:\n",
        "    writefile.write(port(model_segment))\n",
        "print(port(model_binary))"
      ],
      "execution_count": 19,
      "outputs": []
    }
  ]
}